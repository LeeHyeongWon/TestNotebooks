from datetime import datetime

now = datetime.now()
msg = "Hello, Azure Notebooks! Today is %s"  % now.strftime("%A, %d %B, %Y")
print(msg)
